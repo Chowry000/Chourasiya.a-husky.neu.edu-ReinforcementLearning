{
 "cells": [
  {
   "cell_type": "markdown",
   "metadata": {},
   "source": [
    "*********************************\n",
    "## ASSIGNMENT 2\n",
    "### REINFORCEMENT LEARNING\n",
    "*********************************"
   ]
  },
  {
   "cell_type": "markdown",
   "metadata": {},
   "source": [
    "*********************************\n",
    "### Abstract\n",
    "I have used FrozenLake environment to demonstrate the Reinforcement Learning. We would be using different hyper-parameters to get the average number of steps and rewards. \n",
    "*********************************\n",
    "### Import The Libraires"
   ]
  },
  {
   "cell_type": "code",
   "execution_count": 1,
   "metadata": {},
   "outputs": [],
   "source": [
    "import numpy as np\n",
    "import gym\n",
    "import random\n",
    "import time\n",
    "from IPython.display import clear_output\n",
    "import statistics\n",
    "from IPython.display import Image"
   ]
  },
  {
   "cell_type": "markdown",
   "metadata": {},
   "source": [
    "### Choose environment from gym "
   ]
  },
  {
   "cell_type": "code",
   "execution_count": 2,
   "metadata": {},
   "outputs": [],
   "source": [
    "env = gym.make(\"FrozenLake-v0\")"
   ]
  },
  {
   "cell_type": "code",
   "execution_count": 27,
   "metadata": {},
   "outputs": [],
   "source": [
    "# Number of rows = size of state space\n",
    "# Number of columns = size of action space\n",
    "action_space_size = env.action_space.n\n",
    "state_space_size = env.observation_space.n"
   ]
  },
  {
   "cell_type": "markdown",
   "metadata": {},
   "source": [
    "### There are 4 actions for FrozenLake-v0"
   ]
  },
  {
   "cell_type": "code",
   "execution_count": 28,
   "metadata": {
    "jupyter": {
     "source_hidden": true
    }
   },
   "outputs": [
    {
     "data": {
      "image/png": "[encoded data removed]",
      "text/plain": [
       "<IPython.core.display.Image object>"
      ]
     },
     "execution_count": 28,
     "metadata": {
      "image/png": {
       "height": 200,
       "width": 200
      }
     },
     "output_type": "execute_result"
    }
   ],
   "source": [
    "Image(filename='arrow-9-512.png',width=200, height=200)"
   ]
  },
  {
   "cell_type": "markdown",
   "metadata": {},
   "source": [
    "### Initialize q-table with all zeroes"
   ]
  },
  {
   "cell_type": "code",
   "execution_count": 30,
   "metadata": {},
   "outputs": [],
   "source": [
    "q_table = np.zeros((state_space_size,action_space_size))"
   ]
  },
  {
   "cell_type": "code",
   "execution_count": 31,
   "metadata": {},
   "outputs": [
    {
     "name": "stdout",
     "output_type": "stream",
     "text": [
      "[[0. 0. 0. 0.]\n",
      " [0. 0. 0. 0.]\n",
      " [0. 0. 0. 0.]\n",
      " [0. 0. 0. 0.]\n",
      " [0. 0. 0. 0.]\n",
      " [0. 0. 0. 0.]\n",
      " [0. 0. 0. 0.]\n",
      " [0. 0. 0. 0.]\n",
      " [0. 0. 0. 0.]\n",
      " [0. 0. 0. 0.]\n",
      " [0. 0. 0. 0.]\n",
      " [0. 0. 0. 0.]\n",
      " [0. 0. 0. 0.]\n",
      " [0. 0. 0. 0.]\n",
      " [0. 0. 0. 0.]\n",
      " [0. 0. 0. 0.]]\n"
     ]
    }
   ],
   "source": [
    "print(q_table)"
   ]
  },
  {
   "cell_type": "markdown",
   "metadata": {},
   "source": [
    "*********************************\n",
    "## BASELINE MODEL\n",
    "*********************************"
   ]
  },
  {
   "cell_type": "markdown",
   "metadata": {},
   "source": [
    "### Initialize baseline model's parameters"
   ]
  },
  {
   "cell_type": "code",
   "execution_count": 23,
   "metadata": {},
   "outputs": [],
   "source": [
    "num_episodes = 5000 \n",
    "max_steps_per_episode = 100\n",
    "learning_rate = 0.7 # alpha\n",
    "discount_rate = 0.8 # gamma\n",
    "exploration_rate = 1\n",
    "max_exploration_rate = 1\n",
    "min_exploration_rate = 0.01\n",
    "exploration_decay_rate = 0.01\n",
    "rewards_all_episodes = []"
   ]
  },
  {
   "cell_type": "code",
   "execution_count": 24,
   "metadata": {},
   "outputs": [],
   "source": [
    "#env.render()\n",
    "\n",
    "for episode in range(num_episodes):\n",
    "    state = env.reset()\n",
    "    \n",
    "    done = False # Just keep tracks of whether or not the episode has finished\n",
    "    rewards_current_episode = 0 # Since we start with 0 as rewards for any new episode\n",
    "    \n",
    "    for step in range(max_steps_per_episode):\n",
    "        #Exploration - Exploitation Tradeoff\n",
    "        \n",
    "        exploration_rate_threshold = random.uniform(0,1)\n",
    "        if(exploration_rate_threshold>exploration_rate):\n",
    "            action = np.argmax(q_table[state,:])\n",
    "        else:\n",
    "            action = env.action_space.sample()\n",
    "        \n",
    "        new_state,reward,done,info = env.step(action)\n",
    "\n",
    "        #print(new_state, done, reward)\n",
    "        q_table[state, action] = q_table[state, action] * (1 - learning_rate) + learning_rate * (reward + discount_rate * np.max(q_table[new_state, :]))\n",
    "\n",
    "        state = new_state\n",
    "        rewards_current_episode += reward\n",
    "\n",
    "        if done == True:\n",
    "            break\n",
    "        \n",
    "        # Exploration rate decay\n",
    "\n",
    "    #episode +=1\n",
    "    exploration_rate = min_exploration_rate + \\\n",
    "                                        (max_exploration_rate - min_exploration_rate) * np.exp(-exploration_decay_rate*episode)\n",
    "    rewards_all_episodes.append(rewards_current_episode)\n",
    "\n",
    "\n"
   ]
  },
  {
   "cell_type": "code",
   "execution_count": 25,
   "metadata": {},
   "outputs": [
    {
     "name": "stdout",
     "output_type": "stream",
     "text": [
      "********Average reward per thousand episodes********\n",
      "\n",
      "1000 :  0.20200000000000015\n",
      "2000 :  0.2880000000000002\n",
      "3000 :  0.3730000000000003\n",
      "4000 :  0.3770000000000003\n",
      "5000 :  0.33900000000000025\n"
     ]
    }
   ],
   "source": [
    "\n",
    "# Calculate and print the average reward per thousand episodes\n",
    "rewards_per_thosand_episodes = np.split(np.array(rewards_all_episodes),num_episodes/1000)\n",
    "count = 1000\n",
    "\n",
    "print(\"********Average reward per thousand episodes********\\n\")\n",
    "for r in rewards_per_thosand_episodes:\n",
    "    print(count, \": \", str(sum(r/1000)))\n",
    "    count += 1000"
   ]
  },
  {
   "cell_type": "markdown",
   "metadata": {},
   "source": [
    "### Let's see how the agent performs"
   ]
  },
  {
   "cell_type": "code",
   "execution_count": 26,
   "metadata": {},
   "outputs": [
    {
     "name": "stdout",
     "output_type": "stream",
     "text": [
      "Number Of Steps In This Episode: 5\n",
      "Exploration Rate 0.01\n",
      "Average Number Of Steps In All Episodes: 21\n"
     ]
    }
   ],
   "source": [
    " # from each state according to the Q-table\n",
    "steps_in_each_episode = []\n",
    "for episode in range(3):\n",
    "    # initialize new episode params\n",
    "    state = env.reset()\n",
    "    done = False\n",
    "    print(\"*****EPISODE \", episode+1, \"*****\\n\\n\\n\\n\")\n",
    "    time.sleep(1)\n",
    "\n",
    "    for step in range(max_steps_per_episode):\n",
    "        clear_output(wait=True)\n",
    "        env.render()\n",
    "        time.sleep(0.3)\n",
    "        action = np.argmax(q_table[state,:])        \n",
    "        new_state, reward, done, info = env.step(action)\n",
    "         \n",
    "        if done:\n",
    "            clear_output(wait=True)\n",
    "            env.render()\n",
    "            if reward == 1:\n",
    "                print(\"****You reached the goal!****\")\n",
    "                time.sleep(3)\n",
    "            else:\n",
    "                print(\"****You fell through a hole!****\")\n",
    "                time.sleep(3)\n",
    "                clear_output(wait=True)\n",
    "            break\n",
    "        \n",
    "        state = new_state\n",
    "    print(\"Number Of Steps In This Episode:\",step)\n",
    "    print(\"Exploration Rate\",exploration_rate)\n",
    "    \n",
    "    steps_in_each_episode.append(step)\n",
    "    \n",
    "env.close()\n",
    "print(\"Average Number Of Steps In All Episodes:\",statistics.mean(steps_in_each_episode))"
   ]
  },
  {
   "cell_type": "markdown",
   "metadata": {},
   "source": [
    "*********\n",
    "### Let's check for a new policy function, idea is to check how the agent behaves, I am going to use argmin instead of argmax, I believe the agent will fall into Hole as soon as possible\n",
    "**********"
   ]
  },
  {
   "cell_type": "code",
   "execution_count": 16,
   "metadata": {},
   "outputs": [],
   "source": [
    "num_episodes = 5000 \n",
    "max_steps_per_episode = 100\n",
    "learning_rate = 0.7 # alpha\n",
    "discount_rate = 0.8 # gamma\n",
    "exploration_rate = 1\n",
    "max_exploration_rate = 1\n",
    "min_exploration_rate = 0.01\n",
    "exploration_decay_rate = 0.001\n",
    "rewards_all_episodes = []"
   ]
  },
  {
   "cell_type": "code",
   "execution_count": 15,
   "metadata": {},
   "outputs": [
    {
     "name": "stdout",
     "output_type": "stream",
     "text": [
      "Number Of Steps In This Episode: 3\n",
      "Average Number Of Steps In All Episodes: 3.3333333333333335\n"
     ]
    }
   ],
   "source": [
    "#env.render()\n",
    "\n",
    "for episode in range(num_episodes):\n",
    "    state = env.reset()\n",
    "    \n",
    "    done = False # Just keep tracks of whether or not the episode has finished\n",
    "    rewards_current_episode = 0 # Since we start with 0 as rewards for any new episode\n",
    "    \n",
    "    for step in range(max_steps_per_episode):\n",
    "        #Exploration - Exploitation Tradeoff\n",
    "        \n",
    "        exploration_rate_threshold = random.uniform(0,1)\n",
    "        if(exploration_rate_threshold>exploration_rate):\n",
    "            action = np.argmin(q_table[state,:])\n",
    "        else:\n",
    "            action = env.action_space.sample()\n",
    "        \n",
    "        new_state,reward,done,info = env.step(action)\n",
    "\n",
    "        #print(new_state, done, reward)\n",
    "        q_table[state, action] = q_table[state, action] * (1 - learning_rate) + learning_rate * (reward + discount_rate * np.max(q_table[new_state, :]))\n",
    "\n",
    "        state = new_state\n",
    "        rewards_current_episode += reward\n",
    "\n",
    "        if done == True:\n",
    "            break\n",
    "        \n",
    "        # Exploration rate decay\n",
    "\n",
    "    #episode +=1\n",
    "    exploration_rate = min_exploration_rate + \\\n",
    "                                        (max_exploration_rate - min_exploration_rate) * np.exp(-exploration_decay_rate*episode)\n",
    "    rewards_all_episodes.append(rewards_current_episode)\n",
    "\n",
    "\n",
    "# Calculate and print the average reward per thousand episodes\n",
    "rewards_per_thosand_episodes = np.split(np.array(rewards_all_episodes),num_episodes/1000)\n",
    "count = 1000\n",
    "\n",
    "print(\"********Average reward per thousand episodes********\\n\")\n",
    "for r in rewards_per_thosand_episodes:\n",
    "    print(count, \": \", str(sum(r/1000)))\n",
    "    count += 1000\n",
    "\n",
    "# Watch our agent play Frozen Lake by playing the best action \n",
    "# from each state according to the Q-table\n",
    "steps_in_each_episode = []\n",
    "for episode in range(3):\n",
    "    # initialize new episode params\n",
    "    state = env.reset()\n",
    "    done = False\n",
    "    print(\"*****EPISODE \", episode+1, \"*****\\n\\n\\n\\n\")\n",
    "    time.sleep(1)\n",
    "\n",
    "    for step in range(max_steps_per_episode):\n",
    "        clear_output(wait=True)\n",
    "        env.render()\n",
    "        time.sleep(0.3)\n",
    "        action = np.argmin(q_table[state,:])        \n",
    "        new_state, reward, done, info = env.step(action)\n",
    "         \n",
    "        if done:\n",
    "            clear_output(wait=True)\n",
    "            env.render()\n",
    "            if reward == 1:\n",
    "                print(\"****You reached the goal!****\")\n",
    "                time.sleep(3)\n",
    "            else:\n",
    "                print(\"****You fell through a hole!****\")\n",
    "                time.sleep(3)\n",
    "                clear_output(wait=True)\n",
    "            break\n",
    "        \n",
    "        state = new_state\n",
    "    print(\"Number Of Steps In This Episode:\",step)\n",
    "    \n",
    "    steps_in_each_episode.append(step)\n",
    "    \n",
    "env.close()\n",
    "print(\"Average Number Of Steps In All Episodes:\",statistics.mean(steps_in_each_episode))    "
   ]
  },
  {
   "cell_type": "markdown",
   "metadata": {},
   "source": [
    "********************************************\n",
    "I tried updating the Q-table with custom rewards, whenever the done == False, it means the environment is running and the agent \n",
    "has not fallen in a hole. I tried giving it negative rewards, but the total rewards are going way to low in this case. Also, I checked\n",
    "for state == 15 which means that the agent has reached the Goal and gave it maximum reward, other than this state if the environment is\n",
    "complete and the state is something else than 15 then it means that the agent has fallen in a hole. I tried giving much negative reward\n",
    "here. The number of steps to reach the goal decreases in this case but the rewards are quite low.\n",
    "#####         Update Q-table for Q(s,a)\n",
    "#####        if done == False:\n",
    "#####            reward = -0.05\n",
    "#####        else:\n",
    "#####            if new_state == 15:\n",
    "#####                reward = 10.0\n",
    "#####            else:\n",
    "#####                reward = -1.0\n",
    "********************************************\n",
    "                "
   ]
  },
  {
   "cell_type": "code",
   "execution_count": 36,
   "metadata": {},
   "outputs": [],
   "source": [
    "#Reset the variables\n",
    "\n",
    "num_episodes = 10000 \n",
    "max_steps_per_episode = 100\n",
    "learning_rate = 0.1 # alpha\n",
    "discount_rate = 0.99 # gamma\n",
    "exploration_rate = 1\n",
    "max_exploration_rate = 1\n",
    "min_exploration_rate = 0.01\n",
    "exploration_decay_rate = 0.001\n",
    "rewards_all_episodes = []    "
   ]
  },
  {
   "cell_type": "code",
   "execution_count": 37,
   "metadata": {},
   "outputs": [],
   "source": [
    "#env.render()\n",
    "\n",
    "for episode in range(num_episodes):\n",
    "    state = env.reset()\n",
    "    \n",
    "    done = False # Just keep tracks of whether or not the episode has finished\n",
    "    rewards_current_episode = 0 # Since we start with 0 as rewards for any new episode\n",
    "    \n",
    "    for step in range(max_steps_per_episode):\n",
    "        #Exploration - Exploitation Tradeoff\n",
    "        \n",
    "        exploration_rate_threshold = random.uniform(0,1)\n",
    "        if(exploration_rate_threshold>exploration_rate):\n",
    "            action = np.argmax(q_table[state,:])\n",
    "        else:\n",
    "            action = env.action_space.sample()\n",
    "        \n",
    "        new_state,reward,done,info = env.step(action)\n",
    "        \n",
    "        if done == False:\n",
    "            reward = -0.05\n",
    "        else:\n",
    "            if new_state == 15:\n",
    "                reward = 10.0\n",
    "            else:\n",
    "                reward = -1.0\n",
    "\n",
    "        #print(new_state, done, reward)\n",
    "        q_table[state, action] = q_table[state, action] * (1 - learning_rate) + learning_rate * (reward + discount_rate * np.max(q_table[new_state, :]))\n",
    "\n",
    "        state = new_state\n",
    "        rewards_current_episode += reward\n",
    "\n",
    "        if done == True:\n",
    "            break\n",
    "        \n",
    "        # Exploration rate decay\n",
    "\n",
    "    #episode +=1\n",
    "    exploration_rate = min_exploration_rate + \\\n",
    "                                        (max_exploration_rate - min_exploration_rate) * np.exp(-exploration_decay_rate*episode)\n",
    "    rewards_all_episodes.append(rewards_current_episode)\n",
    "\n",
    "\n"
   ]
  },
  {
   "cell_type": "code",
   "execution_count": 38,
   "metadata": {},
   "outputs": [
    {
     "name": "stdout",
     "output_type": "stream",
     "text": [
      "********Average reward per thousand episodes********\n",
      "\n",
      "1000 :  -0.9632499999999955\n",
      "2000 :  0.21079999999999935\n",
      "3000 :  2.269600000000002\n",
      "4000 :  3.3885999999999994\n",
      "5000 :  4.100700000000008\n",
      "6000 :  4.302850000000001\n",
      "7000 :  4.224400000000008\n",
      "8000 :  4.431850000000003\n",
      "9000 :  4.261250000000006\n",
      "10000 :  4.284450000000007\n"
     ]
    }
   ],
   "source": [
    "\n",
    "# Calculate and print the average reward per thousand episodes\n",
    "rewards_per_thosand_episodes = np.split(np.array(rewards_all_episodes),num_episodes/1000)\n",
    "count = 1000\n",
    "\n",
    "print(\"********Average reward per thousand episodes********\\n\")\n",
    "for r in rewards_per_thosand_episodes:\n",
    "    print(count, \": \", str(sum(r/1000)))\n",
    "    count += 1000"
   ]
  },
  {
   "cell_type": "code",
   "execution_count": 39,
   "metadata": {},
   "outputs": [
    {
     "name": "stdout",
     "output_type": "stream",
     "text": [
      "  (Down)\n",
      "SFFF\n",
      "FHFH\n",
      "FFFH\n",
      "HFF\u001b[41mG\u001b[0m\n",
      "****You reached the goal!****\n",
      "Number Of Steps In This Episode: 10\n",
      "Average Number Of Steps In All Episodes: 16\n"
     ]
    }
   ],
   "source": [
    "# Watch our agent play Frozen Lake by playing the best action \n",
    "# from each state according to the Q-table\n",
    "steps_in_each_episode = []\n",
    "for episode in range(3):\n",
    "    # initialize new episode params\n",
    "    state = env.reset()\n",
    "    done = False\n",
    "    print(\"*****EPISODE \", episode+1, \"*****\\n\\n\\n\\n\")\n",
    "    time.sleep(1)\n",
    "\n",
    "    for step in range(max_steps_per_episode):\n",
    "        clear_output(wait=True)\n",
    "        env.render()\n",
    "        time.sleep(0.3)\n",
    "        action = np.argmax(q_table[state,:])        \n",
    "        new_state, reward, done, info = env.step(action)\n",
    "         \n",
    "        if done:\n",
    "            clear_output(wait=True)\n",
    "            env.render()\n",
    "            if reward == 1:\n",
    "                print(\"****You reached the goal!****\")\n",
    "                time.sleep(3)\n",
    "            else:\n",
    "                print(\"****You fell through a hole!****\")\n",
    "                time.sleep(3)\n",
    "                clear_output(wait=True)\n",
    "            break\n",
    "        \n",
    "        state = new_state\n",
    "    print(\"Number Of Steps In This Episode:\",step)\n",
    "    \n",
    "    steps_in_each_episode.append(step)\n",
    "    \n",
    "env.close()\n",
    "print(\"Average Number Of Steps In All Episodes:\",statistics.mean(steps_in_each_episode))"
   ]
  },
  {
   "cell_type": "markdown",
   "metadata": {},
   "source": [
    "*********************\n",
    "## Establish a baseline performance. How well did your RL Q-learning do on your problem?\n",
    "Given the baseline model, the agent is falling into the hole for most of the time. While we change some hyperparameters, the performance increases by more than 50%.\n",
    "*********************"
   ]
  },
  {
   "cell_type": "markdown",
   "metadata": {},
   "source": [
    "*********************\n",
    "## What are the states, the actions and the size of the Q-table?\n",
    "States is the number of tiles in the Frozen Lake environment.\n",
    "Actions is the actions that can be take, i.e. Up, Down, Left Right.\n",
    "Size of Q-Table: 16X4\n",
    "*********************"
   ]
  },
  {
   "cell_type": "markdown",
   "metadata": {},
   "source": [
    "*********************\n",
    "## What are the rewards? Why did you choose them?\n",
    "For Stepping on Empty tile, reward = -0.05\n",
    "For Stepping on Hole = -1\n",
    "For Stepping on Goal = 10\n",
    "\n",
    "I had to choose the Goal reward significantly high otherwise the Total Rewards will lead to only Negatives, as the \"G\" is farthest from \"S\". \n",
    "*********************"
   ]
  },
  {
   "cell_type": "markdown",
   "metadata": {},
   "source": [
    "*********************\n",
    "## How did you choose alpha and gamma in the following equation? \n",
    "I tried various values of alpha and gamma\n",
    "*********************"
   ]
  },
  {
   "cell_type": "markdown",
   "metadata": {},
   "source": [
    "*********************\n",
    "## Try a policy other than maxQ(s', a'). How did it change the baseline performance? \n"
   ]
  },
  {
   "cell_type": "markdown",
   "metadata": {},
   "source": [
    "I tried using np.argmin(s',a'). As thought it completely disturbs the baseline performance by making agent move directly to Hole.\n",
    "*****"
   ]
  },
  {
   "cell_type": "markdown",
   "metadata": {},
   "source": [
    "*********************\n",
    "## How did you choose your decay rate and starting epsilon? Try at least one additional value for epsilon and the decay rate. How did it change the baseline performance? What is the value of epsilon when if you reach the max steps per episode?\n",
    "\n",
    "I started with the baseline information given for decay rate and epsilon. I chose a lot lesser value for decay rate which is 0.001. The value of epsilon or exploration rate when reached max steps was 0.01.\n",
    "*********************"
   ]
  },
  {
   "cell_type": "markdown",
   "metadata": {},
   "source": [
    "**********\n",
    "## What is the average number of steps taken per episode?\n",
    "Average steps taken: 16\n",
    "Also, the agent never fell into Hole.\n",
    "**********"
   ]
  },
  {
   "cell_type": "markdown",
   "metadata": {},
   "source": [
    "****\n",
    "## Does Q-learning use value-based or policy-based iteration?\n",
    "Q-learning uses value-based iteration. It is also called off-policy algorithm.\n",
    "***"
   ]
  },
  {
   "cell_type": "markdown",
   "metadata": {},
   "source": [
    "***\n",
    "## What is meant by expected lifetime value in the Bellman equation?\n",
    "Instead of choosing a state based on immediate reward, agent chooses the next step in such a way that the expected reward at the end of episode is maximum. It is tuned by gamma.\n",
    "***"
   ]
  },
  {
   "cell_type": "markdown",
   "metadata": {},
   "source": [
    "***\n",
    "### Conclusion\n",
    "We can see that by evaluating the environment and customizing the rewards we get, we are getting far better results than the baseline model\n",
    "***"
   ]
  },
  {
   "cell_type": "markdown",
   "metadata": {},
   "source": [
    "***\n",
    "## References\n",
    "Bellman Equation Basics for Reinforcement Learning: https://www.youtube.com/watch?v=14BfO5lMiuk\n",
    "\n",
    "simoninithomas Deep_reinforcement_learning_Course: https://github.com/simoninithomas/Deep_reinforcement_learning_Course\n",
    "\n",
    "Reinforcement Learning - Introducing Goal Oriented: https://www.youtube.com/watch?v=nyjbcRQ-uQ8&list=PLZbbT5o_s2xoWNVdDudn51XM8lOuZ_Njv\n",
    "\n",
    "Bellman Equation: https://en.wikipedia.org/wiki/Bellman_equation\n",
    "***"
   ]
  },
  {
   "cell_type": "markdown",
   "metadata": {},
   "source": [
    "***\n",
    "Copyright 2020 Avinash Chourasiya\n",
    "\n",
    "Permission is hereby granted, free of charge, to any person obtaining a copy of this software and associated documentation files (the \"Software\"), to deal in the Software without restriction, including without limitation the rights to use, copy, modify, merge, publish, distribute, sublicense, and/or sell copies of the Software, and to permit persons to whom the Software is furnished to do so, subject to the following conditions:\n",
    "\n",
    "The above copyright notice and this permission notice shall be included in all copies or substantial portions of the Software.\n",
    "\n",
    "THE SOFTWARE IS PROVIDED \"AS IS\", WITHOUT WARRANTY OF ANY KIND, EXPRESS OR IMPLIED, INCLUDING BUT NOT LIMITED TO THE WARRANTIES OF MERCHANTABILITY, FITNESS FOR A PARTICULAR PURPOSE AND NONINFRINGEMENT. IN NO EVENT SHALL THE AUTHORS OR COPYRIGHT HOLDERS BE LIABLE FOR ANY CLAIM, DAMAGES OR OTHER LIABILITY, WHETHER IN AN ACTION OF CONTRACT, TORT OR OTHERWISE, ARISING FROM, OUT OF OR IN CONNECTION WITH THE SOFTWARE OR THE USE OR OTHER DEALINGS IN THE SOFTWARE.\n",
    "***"
   ]
  }
 ],
 "metadata": {
  "kernelspec": {
   "display_name": "Python 3",
   "language": "python",
   "name": "python3"
  },
  "language_info": {
   "codemirror_mode": {
    "name": "ipython",
    "version": 3
   },
   "file_extension": ".py",
   "mimetype": "text/x-python",
   "name": "python",
   "nbconvert_exporter": "python",
   "pygments_lexer": "ipython3",
   "version": "3.7.4"
  }
 },
 "nbformat": 4,
 "nbformat_minor": 4
}
